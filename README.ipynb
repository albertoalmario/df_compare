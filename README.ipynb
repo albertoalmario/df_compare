{
 "metadata": {
  "language_info": {
   "codemirror_mode": {
    "name": "ipython",
    "version": 3
   },
   "file_extension": ".py",
   "mimetype": "text/x-python",
   "name": "python",
   "nbconvert_exporter": "python",
   "pygments_lexer": "ipython3",
   "version": "3.8.6-candidate"
  },
  "orig_nbformat": 2,
  "kernelspec": {
   "name": "python386jvsc74a57bd085368d8228904593d58da896f6cad96b929efcf74f8b998b9e68d4eee5583539",
   "display_name": "Python 3.8.6 64-bit ('.venv')"
  },
  "metadata": {
   "interpreter": {
    "hash": "85368d8228904593d58da896f6cad96b929efcf74f8b998b9e68d4eee5583539"
   }
  }
 },
 "nbformat": 4,
 "nbformat_minor": 2,
 "cells": [
  {
   "source": [
    "## Create DataFrames"
   ],
   "cell_type": "markdown",
   "metadata": {}
  },
  {
   "cell_type": "code",
   "execution_count": 1,
   "metadata": {},
   "outputs": [
    {
     "output_type": "stream",
     "name": "stdout",
     "text": [
      "Original DataFrame                                Modified DataFrame\n"
     ]
    },
    {
     "output_type": "display_data",
     "data": {
      "text/html": "<table style=\"display:inline\" border=\"1\" class=\"dataframe\">\n  <thead>\n    <tr style=\"text-align: right;\">\n      <th></th>\n      <th>id</th>\n      <th>name</th>\n      <th>city</th>\n      <th>age</th>\n      <th>score</th>\n      <th>system_time</th>\n    </tr>\n  </thead>\n  <tbody>\n    <tr>\n      <th>0</th>\n      <td>1</td>\n      <td>Xavier</td>\n      <td>Mexico City</td>\n      <td>41</td>\n      <td>88.0</td>\n      <td>2020-01-02 01:25</td>\n    </tr>\n    <tr>\n      <th>1</th>\n      <td>2</td>\n      <td>Ann</td>\n      <td>Toronto</td>\n      <td>28</td>\n      <td>79.0</td>\n      <td>2020-01-02 01:26</td>\n    </tr>\n    <tr>\n      <th>2</th>\n      <td>3</td>\n      <td>Jana</td>\n      <td>Prague</td>\n      <td>33</td>\n      <td>81.0</td>\n      <td>2020-01-02 01:27</td>\n    </tr>\n    <tr>\n      <th>3</th>\n      <td>4</td>\n      <td>Yi</td>\n      <td>Shanghai</td>\n      <td>34</td>\n      <td>80.0</td>\n      <td>2020-01-02 01:28</td>\n    </tr>\n    <tr>\n      <th>4</th>\n      <td>5</td>\n      <td>Robin</td>\n      <td>Manchester</td>\n      <td>38</td>\n      <td>68.0</td>\n      <td>2020-01-02 01:29</td>\n    </tr>\n    <tr>\n      <th>5</th>\n      <td>6</td>\n      <td>Amal</td>\n      <td>Cairo</td>\n      <td>31</td>\n      <td>61.0</td>\n      <td>2020-01-02 01:30</td>\n    </tr>\n    <tr>\n      <th>6</th>\n      <td>7</td>\n      <td>Nori</td>\n      <td>Osaka</td>\n      <td>37</td>\n      <td>84.0</td>\n      <td>2021-01-02 01:31</td>\n    </tr>\n  </tbody>\n</table style=\"display:inline\"><table style=\"display:inline\" border=\"1\" class=\"dataframe\">\n  <thead>\n    <tr style=\"text-align: right;\">\n      <th></th>\n      <th>id</th>\n      <th>name</th>\n      <th>city</th>\n      <th>age</th>\n      <th>score</th>\n      <th>system_time</th>\n    </tr>\n  </thead>\n  <tbody>\n    <tr>\n      <th>0</th>\n      <td>1</td>\n      <td>Xavier</td>\n      <td>Mexico City</td>\n      <td>41</td>\n      <td>88.0</td>\n      <td>2020-01-03 02:25</td>\n    </tr>\n    <tr>\n      <th>1</th>\n      <td>2</td>\n      <td>Ann</td>\n      <td>Toronto</td>\n      <td>28</td>\n      <td>79.0</td>\n      <td>2020-01-03 02:26</td>\n    </tr>\n    <tr>\n      <th>2</th>\n      <td>3</td>\n      <td>Jana</td>\n      <td>Prague</td>\n      <td>33</td>\n      <td>81.0</td>\n      <td>2020-01-03 02:27</td>\n    </tr>\n    <tr>\n      <th>3</th>\n      <td>4</td>\n      <td>Yi</td>\n      <td>Shanghai</td>\n      <td>34</td>\n      <td>80.0</td>\n      <td>2020-01-03 02:28</td>\n    </tr>\n    <tr>\n      <th>4</th>\n      <td>5</td>\n      <td>Robin</td>\n      <td>Manchester</td>\n      <td>38</td>\n      <td>68.0</td>\n      <td>2020-01-03 02:29</td>\n    </tr>\n    <tr>\n      <th>5</th>\n      <td>6</td>\n      <td>Amal</td>\n      <td>CaiRo</td>\n      <td>31</td>\n      <td>61.5</td>\n      <td>2020-01-03 02:30</td>\n    </tr>\n    <tr>\n      <th>6</th>\n      <td>8</td>\n      <td>Nori</td>\n      <td>Osaka</td>\n      <td>37</td>\n      <td>84.0</td>\n      <td>2021-01-03 02:31</td>\n    </tr>\n  </tbody>\n</table style=\"display:inline\">"
     },
     "metadata": {}
    }
   ],
   "source": [
    "import copy\n",
    "import pandas as pd\n",
    "from df_compare import DF_Compare\n",
    "from IPython.display import display, HTML, display_html\n",
    "\n",
    "def display_side_by_side(*args):\n",
    "    html_str=''\n",
    "    for df in args:\n",
    "        html_str+=df.to_html()\n",
    "    display_html(html_str.replace('table','table style=\"display:inline\"'),raw=True)\n",
    "\n",
    "data_orig = {'id': [1,2,3,4,5,6,7]\n",
    ",'name': ['Xavier', 'Ann', 'Jana', 'Yi', 'Robin', 'Amal', 'Nori']\n",
    ",'city': ['Mexico City', 'Toronto', 'Prague', 'Shanghai','Manchester', 'Cairo', 'Osaka']\n",
    ",'age': [41, 28, 33, 34, 38, 31, 37]\n",
    ",'score': [88.0, 79.0, 81.0, 80.0, 68.0, 61.0, 84.0]\n",
    ",'system_time': ['2020-01-02 01:25', '2020-01-02 01:26', '2020-01-02 01:27', '2020-01-02 01:28', '2020-01-02 01:29', '2020-01-02 01:30', '2021-01-02 01:31']\n",
    "}\n",
    "data_mod = {'id': [1,2,3,4,5,6,8]\n",
    ",'name': ['Xavier', 'Ann', 'Jana', 'Yi', 'Robin', 'Amal', 'Nori']\n",
    ",'city': ['Mexico City', 'Toronto', 'Prague', 'Shanghai','Manchester', 'CaiRo', 'Osaka']\n",
    ",'age': [41, 28, 33, 34, 38, 31, 37]\n",
    ",'score': [88.0, 79.0, 81.0, 80.0, 68.0, 61.5, 84.0]\n",
    ",'system_time': ['2020-01-03 02:25', '2020-01-03 02:26', '2020-01-03 02:27', '2020-01-03 02:28', '2020-01-03 02:29', '2020-01-03 02:30', '2021-01-03 02:31']\n",
    "}\n",
    "\n",
    "left_df = pd.DataFrame(data_orig)\n",
    "right_df = pd.DataFrame(data_mod)\n",
    "\n",
    "print('Original DataFrame                                Modified DataFrame')\n",
    "display_side_by_side(left_df, right_df)\n"
   ]
  },
  {
   "source": [
    "## Find differences by join columns(keys) and compare cell by cell (deep compare)\n",
    "### * compare all columns\n",
    "##### Note: The cells that match will not show"
   ],
   "cell_type": "markdown",
   "metadata": {}
  },
  {
   "cell_type": "code",
   "execution_count": 2,
   "metadata": {},
   "outputs": [
    {
     "output_type": "stream",
     "name": "stdout",
     "text": [
      "Initial Shape(rows, columns): L-> (7, 6) | R-> (7, 6)\n",
      "finding differences: 100%|██████████| 8/8 [00:00<00:00, 340.41it/s]\n",
      "The two DataFrames present differencess\n"
     ]
    },
    {
     "output_type": "display_data",
     "data": {
      "text/plain": "          id         name            city          age         score  \\\n0          1                                                           \n1          2                                                           \n2          3                                                           \n3          4                                                           \n4          5                                                           \n5          6               Cairo != CaiRo               61.0 != 61.5   \n6  7 != None  Nori != nan    Osaka != nan  37.0 != nan   84.0 != nan   \n7  None != 8  nan != Nori    nan != Osaka  nan != 37.0   nan != 84.0   \n\n                            system_time  \n0  2020-01-02 01:25 != 2020-01-03 02:25  \n1  2020-01-02 01:26 != 2020-01-03 02:26  \n2  2020-01-02 01:27 != 2020-01-03 02:27  \n3  2020-01-02 01:28 != 2020-01-03 02:28  \n4  2020-01-02 01:29 != 2020-01-03 02:29  \n5  2020-01-02 01:30 != 2020-01-03 02:30  \n6               2021-01-02 01:31 != nan  \n7               nan != 2021-01-03 02:31  ",
      "text/html": "<div>\n<style scoped>\n    .dataframe tbody tr th:only-of-type {\n        vertical-align: middle;\n    }\n\n    .dataframe tbody tr th {\n        vertical-align: top;\n    }\n\n    .dataframe thead th {\n        text-align: right;\n    }\n</style>\n<table border=\"1\" class=\"dataframe\">\n  <thead>\n    <tr style=\"text-align: right;\">\n      <th></th>\n      <th>id</th>\n      <th>name</th>\n      <th>city</th>\n      <th>age</th>\n      <th>score</th>\n      <th>system_time</th>\n    </tr>\n  </thead>\n  <tbody>\n    <tr>\n      <th>0</th>\n      <td>1</td>\n      <td></td>\n      <td></td>\n      <td></td>\n      <td></td>\n      <td>2020-01-02 01:25 != 2020-01-03 02:25</td>\n    </tr>\n    <tr>\n      <th>1</th>\n      <td>2</td>\n      <td></td>\n      <td></td>\n      <td></td>\n      <td></td>\n      <td>2020-01-02 01:26 != 2020-01-03 02:26</td>\n    </tr>\n    <tr>\n      <th>2</th>\n      <td>3</td>\n      <td></td>\n      <td></td>\n      <td></td>\n      <td></td>\n      <td>2020-01-02 01:27 != 2020-01-03 02:27</td>\n    </tr>\n    <tr>\n      <th>3</th>\n      <td>4</td>\n      <td></td>\n      <td></td>\n      <td></td>\n      <td></td>\n      <td>2020-01-02 01:28 != 2020-01-03 02:28</td>\n    </tr>\n    <tr>\n      <th>4</th>\n      <td>5</td>\n      <td></td>\n      <td></td>\n      <td></td>\n      <td></td>\n      <td>2020-01-02 01:29 != 2020-01-03 02:29</td>\n    </tr>\n    <tr>\n      <th>5</th>\n      <td>6</td>\n      <td></td>\n      <td>Cairo != CaiRo</td>\n      <td></td>\n      <td>61.0 != 61.5</td>\n      <td>2020-01-02 01:30 != 2020-01-03 02:30</td>\n    </tr>\n    <tr>\n      <th>6</th>\n      <td>7 != None</td>\n      <td>Nori != nan</td>\n      <td>Osaka != nan</td>\n      <td>37.0 != nan</td>\n      <td>84.0 != nan</td>\n      <td>2021-01-02 01:31 != nan</td>\n    </tr>\n    <tr>\n      <th>7</th>\n      <td>None != 8</td>\n      <td>nan != Nori</td>\n      <td>nan != Osaka</td>\n      <td>nan != 37.0</td>\n      <td>nan != 84.0</td>\n      <td>nan != 2021-01-03 02:31</td>\n    </tr>\n  </tbody>\n</table>\n</div>"
     },
     "metadata": {}
    }
   ],
   "source": [
    "compjcd = DF_Compare(copy.deepcopy(left_df),copy.deepcopy(right_df), columns_to_join=['id']) # Created the new object of DF_Compare class and print the initial shape of two DataFrames\n",
    "compjcdv = compjcd.get_differences_by_deep_compare_join_columns() # Compare the Two DataFrames by join columns and compare cell by cell, assing the result to a new variable\n",
    "display(compjcdv)"
   ]
  },
  {
   "source": [
    "### * Exclude the system_time column\n",
    "##### Note: The cells that match will not show"
   ],
   "cell_type": "markdown",
   "metadata": {}
  },
  {
   "cell_type": "code",
   "execution_count": 3,
   "metadata": {},
   "outputs": [
    {
     "output_type": "stream",
     "name": "stdout",
     "text": [
      "Initial Shape(rows, columns): L-> (7, 6) | R-> (7, 6)\n",
      "Shape(rows, columns) after delete columns to exclude: L-> (7, 5) | R-> (7, 5)\n",
      "finding differences: 100%|██████████| 3/3 [00:00<00:00, 374.99it/s]\n",
      "The two DataFrames present differencess\n"
     ]
    },
    {
     "output_type": "display_data",
     "data": {
      "text/plain": "          id         name            city          age         score\n0          6               Cairo != CaiRo               61.0 != 61.5\n1  7 != None  Nori != nan    Osaka != nan  37.0 != nan   84.0 != nan\n2  None != 8  nan != Nori    nan != Osaka  nan != 37.0   nan != 84.0",
      "text/html": "<div>\n<style scoped>\n    .dataframe tbody tr th:only-of-type {\n        vertical-align: middle;\n    }\n\n    .dataframe tbody tr th {\n        vertical-align: top;\n    }\n\n    .dataframe thead th {\n        text-align: right;\n    }\n</style>\n<table border=\"1\" class=\"dataframe\">\n  <thead>\n    <tr style=\"text-align: right;\">\n      <th></th>\n      <th>id</th>\n      <th>name</th>\n      <th>city</th>\n      <th>age</th>\n      <th>score</th>\n    </tr>\n  </thead>\n  <tbody>\n    <tr>\n      <th>0</th>\n      <td>6</td>\n      <td></td>\n      <td>Cairo != CaiRo</td>\n      <td></td>\n      <td>61.0 != 61.5</td>\n    </tr>\n    <tr>\n      <th>1</th>\n      <td>7 != None</td>\n      <td>Nori != nan</td>\n      <td>Osaka != nan</td>\n      <td>37.0 != nan</td>\n      <td>84.0 != nan</td>\n    </tr>\n    <tr>\n      <th>2</th>\n      <td>None != 8</td>\n      <td>nan != Nori</td>\n      <td>nan != Osaka</td>\n      <td>nan != 37.0</td>\n      <td>nan != 84.0</td>\n    </tr>\n  </tbody>\n</table>\n</div>"
     },
     "metadata": {}
    }
   ],
   "source": [
    "compjcdx = DF_Compare(copy.deepcopy(left_df),copy.deepcopy(right_df), columns_to_join=['id'], columns_to_exclude=['system_time']) # Created the new object of DF_Compare class and print the initial shape of two DataFrames\n",
    "compjcdxv = compjcdx.get_differences_by_deep_compare_join_columns() # Compare the Two DataFrames by join columns and compare cell by cell, assing the result to a new variable\n",
    "display(compjcdxv)"
   ]
  },
  {
   "source": [
    "## Find differences only by join columns(keys)"
   ],
   "cell_type": "markdown",
   "metadata": {}
  },
  {
   "cell_type": "code",
   "execution_count": 4,
   "metadata": {},
   "outputs": [
    {
     "output_type": "stream",
     "name": "stdout",
     "text": [
      "Initial Shape(rows, columns): L-> (7, 6) | R-> (7, 6)\nCompare by Join Columns: Exsist Left only-> 1 |Exsist Right only-> 1\n"
     ]
    },
    {
     "output_type": "display_data",
     "data": {
      "text/plain": "   id name_left_df city_left_df  age_left_df  score_left_df  \\\n6   7         Nori        Osaka         37.0           84.0   \n7   8          NaN          NaN          NaN            NaN   \n\n  system_time_left_df name_right_df city_right_df  age_right_df  \\\n6    2021-01-02 01:31           NaN           NaN           NaN   \n7                 NaN          Nori         Osaka          37.0   \n\n   score_right_df system_time_right_df      _merge  \n6             NaN                  NaN   left_only  \n7            84.0     2021-01-03 02:31  right_only  ",
      "text/html": "<div>\n<style scoped>\n    .dataframe tbody tr th:only-of-type {\n        vertical-align: middle;\n    }\n\n    .dataframe tbody tr th {\n        vertical-align: top;\n    }\n\n    .dataframe thead th {\n        text-align: right;\n    }\n</style>\n<table border=\"1\" class=\"dataframe\">\n  <thead>\n    <tr style=\"text-align: right;\">\n      <th></th>\n      <th>id</th>\n      <th>name_left_df</th>\n      <th>city_left_df</th>\n      <th>age_left_df</th>\n      <th>score_left_df</th>\n      <th>system_time_left_df</th>\n      <th>name_right_df</th>\n      <th>city_right_df</th>\n      <th>age_right_df</th>\n      <th>score_right_df</th>\n      <th>system_time_right_df</th>\n      <th>_merge</th>\n    </tr>\n  </thead>\n  <tbody>\n    <tr>\n      <th>6</th>\n      <td>7</td>\n      <td>Nori</td>\n      <td>Osaka</td>\n      <td>37.0</td>\n      <td>84.0</td>\n      <td>2021-01-02 01:31</td>\n      <td>NaN</td>\n      <td>NaN</td>\n      <td>NaN</td>\n      <td>NaN</td>\n      <td>NaN</td>\n      <td>left_only</td>\n    </tr>\n    <tr>\n      <th>7</th>\n      <td>8</td>\n      <td>NaN</td>\n      <td>NaN</td>\n      <td>NaN</td>\n      <td>NaN</td>\n      <td>NaN</td>\n      <td>Nori</td>\n      <td>Osaka</td>\n      <td>37.0</td>\n      <td>84.0</td>\n      <td>2021-01-03 02:31</td>\n      <td>right_only</td>\n    </tr>\n  </tbody>\n</table>\n</div>"
     },
     "metadata": {}
    }
   ],
   "source": [
    "compjc = DF_Compare(copy.deepcopy(left_df),copy.deepcopy(right_df), columns_to_join=['id']) # Created the new object of DF_Compare class and print the initial shape of two DataFrames\n",
    "compjcv = compjc.get_differences_by_compare_join_columns() # Compare the Two DataFrames by join columns and assing the result to a new variable\n",
    "display(compjcv)"
   ]
  },
  {
   "source": [
    "## Find differences by whole Row\n",
    "### * Include all columns of DataFrames"
   ],
   "cell_type": "markdown",
   "metadata": {}
  },
  {
   "cell_type": "code",
   "execution_count": 5,
   "metadata": {},
   "outputs": [
    {
     "output_type": "stream",
     "name": "stdout",
     "text": [
      "Initial Shape(rows, columns): L-> (7, 6) | R-> (7, 6)\nCompare by Whole Row: Exsist Left only-> 7 |Exsist Right only-> 7\n"
     ]
    },
    {
     "output_type": "display_data",
     "data": {
      "text/plain": "    id    name         city  age  score       system_time      _merge\n0    1  Xavier  Mexico City   41   88.0  2020-01-02 01:25   left_only\n1    2     Ann      Toronto   28   79.0  2020-01-02 01:26   left_only\n2    3    Jana       Prague   33   81.0  2020-01-02 01:27   left_only\n3    4      Yi     Shanghai   34   80.0  2020-01-02 01:28   left_only\n4    5   Robin   Manchester   38   68.0  2020-01-02 01:29   left_only\n5    6    Amal        Cairo   31   61.0  2020-01-02 01:30   left_only\n6    7    Nori        Osaka   37   84.0  2021-01-02 01:31   left_only\n7    1  Xavier  Mexico City   41   88.0  2020-01-03 02:25  right_only\n8    2     Ann      Toronto   28   79.0  2020-01-03 02:26  right_only\n9    3    Jana       Prague   33   81.0  2020-01-03 02:27  right_only\n10   4      Yi     Shanghai   34   80.0  2020-01-03 02:28  right_only\n11   5   Robin   Manchester   38   68.0  2020-01-03 02:29  right_only\n12   6    Amal        CaiRo   31   61.5  2020-01-03 02:30  right_only\n13   8    Nori        Osaka   37   84.0  2021-01-03 02:31  right_only",
      "text/html": "<div>\n<style scoped>\n    .dataframe tbody tr th:only-of-type {\n        vertical-align: middle;\n    }\n\n    .dataframe tbody tr th {\n        vertical-align: top;\n    }\n\n    .dataframe thead th {\n        text-align: right;\n    }\n</style>\n<table border=\"1\" class=\"dataframe\">\n  <thead>\n    <tr style=\"text-align: right;\">\n      <th></th>\n      <th>id</th>\n      <th>name</th>\n      <th>city</th>\n      <th>age</th>\n      <th>score</th>\n      <th>system_time</th>\n      <th>_merge</th>\n    </tr>\n  </thead>\n  <tbody>\n    <tr>\n      <th>0</th>\n      <td>1</td>\n      <td>Xavier</td>\n      <td>Mexico City</td>\n      <td>41</td>\n      <td>88.0</td>\n      <td>2020-01-02 01:25</td>\n      <td>left_only</td>\n    </tr>\n    <tr>\n      <th>1</th>\n      <td>2</td>\n      <td>Ann</td>\n      <td>Toronto</td>\n      <td>28</td>\n      <td>79.0</td>\n      <td>2020-01-02 01:26</td>\n      <td>left_only</td>\n    </tr>\n    <tr>\n      <th>2</th>\n      <td>3</td>\n      <td>Jana</td>\n      <td>Prague</td>\n      <td>33</td>\n      <td>81.0</td>\n      <td>2020-01-02 01:27</td>\n      <td>left_only</td>\n    </tr>\n    <tr>\n      <th>3</th>\n      <td>4</td>\n      <td>Yi</td>\n      <td>Shanghai</td>\n      <td>34</td>\n      <td>80.0</td>\n      <td>2020-01-02 01:28</td>\n      <td>left_only</td>\n    </tr>\n    <tr>\n      <th>4</th>\n      <td>5</td>\n      <td>Robin</td>\n      <td>Manchester</td>\n      <td>38</td>\n      <td>68.0</td>\n      <td>2020-01-02 01:29</td>\n      <td>left_only</td>\n    </tr>\n    <tr>\n      <th>5</th>\n      <td>6</td>\n      <td>Amal</td>\n      <td>Cairo</td>\n      <td>31</td>\n      <td>61.0</td>\n      <td>2020-01-02 01:30</td>\n      <td>left_only</td>\n    </tr>\n    <tr>\n      <th>6</th>\n      <td>7</td>\n      <td>Nori</td>\n      <td>Osaka</td>\n      <td>37</td>\n      <td>84.0</td>\n      <td>2021-01-02 01:31</td>\n      <td>left_only</td>\n    </tr>\n    <tr>\n      <th>7</th>\n      <td>1</td>\n      <td>Xavier</td>\n      <td>Mexico City</td>\n      <td>41</td>\n      <td>88.0</td>\n      <td>2020-01-03 02:25</td>\n      <td>right_only</td>\n    </tr>\n    <tr>\n      <th>8</th>\n      <td>2</td>\n      <td>Ann</td>\n      <td>Toronto</td>\n      <td>28</td>\n      <td>79.0</td>\n      <td>2020-01-03 02:26</td>\n      <td>right_only</td>\n    </tr>\n    <tr>\n      <th>9</th>\n      <td>3</td>\n      <td>Jana</td>\n      <td>Prague</td>\n      <td>33</td>\n      <td>81.0</td>\n      <td>2020-01-03 02:27</td>\n      <td>right_only</td>\n    </tr>\n    <tr>\n      <th>10</th>\n      <td>4</td>\n      <td>Yi</td>\n      <td>Shanghai</td>\n      <td>34</td>\n      <td>80.0</td>\n      <td>2020-01-03 02:28</td>\n      <td>right_only</td>\n    </tr>\n    <tr>\n      <th>11</th>\n      <td>5</td>\n      <td>Robin</td>\n      <td>Manchester</td>\n      <td>38</td>\n      <td>68.0</td>\n      <td>2020-01-03 02:29</td>\n      <td>right_only</td>\n    </tr>\n    <tr>\n      <th>12</th>\n      <td>6</td>\n      <td>Amal</td>\n      <td>CaiRo</td>\n      <td>31</td>\n      <td>61.5</td>\n      <td>2020-01-03 02:30</td>\n      <td>right_only</td>\n    </tr>\n    <tr>\n      <th>13</th>\n      <td>8</td>\n      <td>Nori</td>\n      <td>Osaka</td>\n      <td>37</td>\n      <td>84.0</td>\n      <td>2021-01-03 02:31</td>\n      <td>right_only</td>\n    </tr>\n  </tbody>\n</table>\n</div>"
     },
     "metadata": {}
    }
   ],
   "source": [
    "compwr = DF_Compare(copy.deepcopy(left_df),copy.deepcopy(right_df)) # Created the new object of DF_Compare class and print the initial shape of two DataFrames\n",
    "compwrv = compwr.get_differences_by_compare_whole_row() # Compare the Two DataFrames by whole row and assing the result to a new variable\n",
    "display(compwrv)"
   ]
  },
  {
   "source": [
    "### * Exclude the system_time column"
   ],
   "cell_type": "markdown",
   "metadata": {}
  },
  {
   "cell_type": "code",
   "execution_count": 6,
   "metadata": {},
   "outputs": [
    {
     "output_type": "stream",
     "name": "stdout",
     "text": [
      "Initial Shape(rows, columns): L-> (7, 6) | R-> (7, 6)\nShape(rows, columns) after delete columns to exclude: L-> (7, 5) | R-> (7, 5)\nCompare by Whole Row: Exsist Left only-> 2 |Exsist Right only-> 2\n"
     ]
    },
    {
     "output_type": "display_data",
     "data": {
      "text/plain": "   id  name   city  age  score      _merge\n5   6  Amal  Cairo   31   61.0   left_only\n6   7  Nori  Osaka   37   84.0   left_only\n7   6  Amal  CaiRo   31   61.5  right_only\n8   8  Nori  Osaka   37   84.0  right_only",
      "text/html": "<div>\n<style scoped>\n    .dataframe tbody tr th:only-of-type {\n        vertical-align: middle;\n    }\n\n    .dataframe tbody tr th {\n        vertical-align: top;\n    }\n\n    .dataframe thead th {\n        text-align: right;\n    }\n</style>\n<table border=\"1\" class=\"dataframe\">\n  <thead>\n    <tr style=\"text-align: right;\">\n      <th></th>\n      <th>id</th>\n      <th>name</th>\n      <th>city</th>\n      <th>age</th>\n      <th>score</th>\n      <th>_merge</th>\n    </tr>\n  </thead>\n  <tbody>\n    <tr>\n      <th>5</th>\n      <td>6</td>\n      <td>Amal</td>\n      <td>Cairo</td>\n      <td>31</td>\n      <td>61.0</td>\n      <td>left_only</td>\n    </tr>\n    <tr>\n      <th>6</th>\n      <td>7</td>\n      <td>Nori</td>\n      <td>Osaka</td>\n      <td>37</td>\n      <td>84.0</td>\n      <td>left_only</td>\n    </tr>\n    <tr>\n      <th>7</th>\n      <td>6</td>\n      <td>Amal</td>\n      <td>CaiRo</td>\n      <td>31</td>\n      <td>61.5</td>\n      <td>right_only</td>\n    </tr>\n    <tr>\n      <th>8</th>\n      <td>8</td>\n      <td>Nori</td>\n      <td>Osaka</td>\n      <td>37</td>\n      <td>84.0</td>\n      <td>right_only</td>\n    </tr>\n  </tbody>\n</table>\n</div>"
     },
     "metadata": {}
    }
   ],
   "source": [
    "compwrx = DF_Compare(copy.deepcopy(left_df),copy.deepcopy(right_df),columns_to_exclude=['system_time']) # Created the new object of DF_Compare class and print the initial shape of two DataFrames\n",
    "compwrxv = compwrx.get_differences_by_compare_whole_row() # Compare the Two DataFrames by whole but exclude system_time column row and assing the result to a new variable\n",
    "display(compwrxv)"
   ]
  }
 ]
}
